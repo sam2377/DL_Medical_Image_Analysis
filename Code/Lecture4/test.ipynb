{
 "cells": [
  {
   "cell_type": "code",
   "execution_count": 1,
   "metadata": {},
   "outputs": [],
   "source": [
    "import numpy as np\n",
    "import matplotlib.pyplot as plt\n",
    "import skimage.io as io\n",
    "import skimage.color as color\n",
    "import random as r\n",
    "import math\n",
    "import os\n",
    "os.environ['TF_CPP_MIN_LOG_LEVEL'] = '3' \n",
    "import tensorflow as tf\n",
    "from tensorflow.keras.models import Model\n",
    "from tensorflow.keras.layers import Dense, Dropout, Activation, Flatten\n",
    "from tensorflow.keras.layers import Convolution2D,concatenate, Conv2D, MaxPooling2D, Conv2DTranspose\n",
    "from tensorflow.keras.layers import Input, concatenate, UpSampling2D\n",
    "from tensorflow.keras.callbacks import ModelCheckpoint\n",
    "from tensorflow.keras.optimizers import Adam\n",
    "from tensorflow.keras.preprocessing.image import ImageDataGenerator"
   ]
  },
  {
   "cell_type": "code",
   "execution_count": 2,
   "metadata": {},
   "outputs": [
    {
     "name": "stdout",
     "output_type": "stream",
     "text": [
      "Default GPU Device:/device:GPU:0\n"
     ]
    }
   ],
   "source": [
    "if tf.test.gpu_device_name(): \n",
    "    print('Default GPU Device:{}'.format(tf.test.gpu_device_name()))\n",
    "else:\n",
    "    print(\"Please install GPU version of TF\")"
   ]
  },
  {
   "cell_type": "code",
   "execution_count": 4,
   "metadata": {},
   "outputs": [],
   "source": [
    "img_size = 240      #original img size is 240*240\n",
    "smooth = 1 \n",
    "num_of_aug = 1\n",
    "num_epoch = 10\n",
    "pul_seq = 'Flair'\n",
    "sharp = False       # sharpen filter\n",
    "\n",
    "num_of_patch = 4 #must be a square number\n",
    "label_num = 5   # 1 = necrosis, 2 = tumor core, 4 = ET, 5 = complete tumor"
   ]
  },
  {
   "cell_type": "code",
   "execution_count": 46,
   "metadata": {},
   "outputs": [],
   "source": [
    "import glob\n",
    "def create_data(src, mask, label=False, resize=(155,img_size,img_size)):\n",
    "    files = glob.glob(src + mask, recursive=True)\n",
    "    imgs = []\n",
    "    print('Processing---', mask)\n",
    "    for file in files:\n",
    "        img = io.imread(file, plugin='simpleitk')\n",
    "        #img = trans.resize(img, resize, mode='constant')\n",
    "        if label:\n",
    "            if label_num == 5:\n",
    "                img[img != 0] = 1       #Region 1 => 1+2+3+4 complete tumor\n",
    "            if label_num == 1:\n",
    "                img[img != 1] = 0       #only left necrosis\n",
    "            if label_num == 2:\n",
    "                img[img == 2] = 0       #turn edema to 0\n",
    "                img[img != 0] = 1       #only keep necrosis, ET, NET = Tumor core\n",
    "            if label_num == 4:\n",
    "                img[img != 4] = 0       #only left ET\n",
    "                img[img == 4] = 1\n",
    "            img = img.astype('float32')\n",
    "        else:\n",
    "            img = (img-img.mean()) / img.std()      #normalization => zero mean   !!!care for the std=0 problem\n",
    "        for slice in range(110,120):     #choose the slice range\n",
    "            img_t = img[slice,:,:]\n",
    "#             img_t = img_t.reshape((1,)+img_t.shape)\n",
    "#             img_t = img_t.reshape((1,)+img_t.shape)   #become rank 4\n",
    "            img_t = np.expand_dims(img_t, axis=2)\n",
    "            img_t = np.expand_dims(img_t, axis=0)\n",
    "            img_g = augmentation(img_t, num_of_aug)\n",
    "            for n in range(img_g.shape[0]):\n",
    "                imgs.append(img_g[n,:,:,:])\n",
    "        break\n",
    "    name = 'sample_y_'+ str(img_size) + '_' +str(label_num) if label else 'sample_x_'+ str(img_size) + pul_seq\n",
    "    np.save(name, np.array(imgs).astype('float32'))  # save at home\n",
    "    print('Saved', len(files), 'to', name)"
   ]
  },
  {
   "cell_type": "code",
   "execution_count": 48,
   "metadata": {},
   "outputs": [],
   "source": [
    "def augmentation(scans, n):          #input img must be rank 4 \n",
    "    datagen = ImageDataGenerator(\n",
    "        featurewise_center=False,   \n",
    "        samplewise_center=False,  \n",
    "        featurewise_std_normalization=False,  \n",
    "        samplewise_std_normalization=False,  \n",
    "        zca_whitening=False,  \n",
    "        rotation_range=25,\n",
    "        zoom_range=False)\n",
    "    i = 0\n",
    "    scans_g = scans.copy()\n",
    "    for batch in datagen.flow(scans, batch_size=1, seed=1000): \n",
    "        scans_g = np.vstack([scans_g,batch])\n",
    "        i += 1\n",
    "        if i == n:\n",
    "            break\n",
    "\n",
    "    return scans_g"
   ]
  },
  {
   "cell_type": "code",
   "execution_count": 50,
   "metadata": {
    "scrolled": false
   },
   "outputs": [
    {
     "name": "stdout",
     "output_type": "stream",
     "text": [
      "Processing--- **/*Flair*.mha\n",
      "Saved 220 to sample_x_240Flair\n",
      "Processing--- **/*OT*.mha\n",
      "Saved 220 to sample_y_240_5\n"
     ]
    }
   ],
   "source": [
    "create_data('./BRATS2015_Training/HGG/', '**/*{}*.mha'.format(pul_seq), label=False, resize=(155,img_size,img_size))\n",
    "create_data('./BRATS2015_Training/HGG/', '**/*OT*.mha', label=True, resize=(155,img_size,img_size))"
   ]
  },
  {
   "cell_type": "code",
   "execution_count": 51,
   "metadata": {},
   "outputs": [],
   "source": [
    "x = np.load('./sample_x_{}{}.npy'.format(img_size,pul_seq))\n",
    "y = np.load('./sample_y_{}_{}.npy'.format(img_size,label_num))"
   ]
  },
  {
   "cell_type": "code",
   "execution_count": 52,
   "metadata": {},
   "outputs": [
    {
     "data": {
      "text/plain": [
       "(20, 240, 240, 1)"
      ]
     },
     "execution_count": 52,
     "metadata": {},
     "output_type": "execute_result"
    }
   ],
   "source": [
    "x.shape"
   ]
  },
  {
   "cell_type": "code",
   "execution_count": 53,
   "metadata": {},
   "outputs": [
    {
     "data": {
      "text/plain": [
       "(20, 240, 240, 1)"
      ]
     },
     "execution_count": 53,
     "metadata": {},
     "output_type": "execute_result"
    }
   ],
   "source": [
    "y.shape"
   ]
  },
  {
   "cell_type": "code",
   "execution_count": 64,
   "metadata": {},
   "outputs": [
    {
     "data": {
      "text/plain": [
       "0.0"
      ]
     },
     "execution_count": 64,
     "metadata": {},
     "output_type": "execute_result"
    }
   ],
   "source": [
    "np.sum(y)"
   ]
  },
  {
   "cell_type": "code",
   "execution_count": 65,
   "metadata": {},
   "outputs": [
    {
     "data": {
      "text/plain": [
       "<matplotlib.image.AxesImage at 0x7fc419469bd0>"
      ]
     },
     "execution_count": 65,
     "metadata": {},
     "output_type": "execute_result"
    },
    {
     "data": {
      "image/png": "[encoded data removed]",
      "text/plain": [
       "<Figure size 432x288 with 1 Axes>"
      ]
     },
     "metadata": {
      "needs_background": "light"
     },
     "output_type": "display_data"
    }
   ],
   "source": [
    "plt.imshow(x[9,:,:,0])"
   ]
  }
 ],
 "metadata": {
  "kernelspec": {
   "display_name": "tensorflow",
   "language": "python",
   "name": "tensorflow"
  },
  "language_info": {
   "codemirror_mode": {
    "name": "ipython",
    "version": 3
   },
   "file_extension": ".py",
   "mimetype": "text/x-python",
   "name": "python",
   "nbconvert_exporter": "python",
   "pygments_lexer": "ipython3",
   "version": "3.7.9"
  }
 },
 "nbformat": 4,
 "nbformat_minor": 4
}
