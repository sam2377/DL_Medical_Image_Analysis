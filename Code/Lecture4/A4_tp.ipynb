{
 "cells": [
  {
   "cell_type": "markdown",
   "metadata": {},
   "source": [
    "# Assignment 4\n",
    "* In this assignment, we will train a simple U-net with Brats 2015 brain tumor dataset.\n",
    "* Dice similarity coefficient is regarded as evaluation metric."
   ]
  },
  {
   "cell_type": "markdown",
   "metadata": {},
   "source": [
    "# Environment\n",
    "* Use the following lines to import any needed libraries:"
   ]
  },
  {
   "cell_type": "code",
   "execution_count": 1,
   "metadata": {},
   "outputs": [],
   "source": [
    "import numpy as np\n",
    "import matplotlib.pyplot as plt\n",
    "import skimage.io as io\n",
    "import random as r\n",
    "import math\n",
    "import cv2\n",
    "import glob\n",
    "import os\n",
    "os.environ['TF_CPP_MIN_LOG_LEVEL'] = '3' "
   ]
  },
  {
   "cell_type": "markdown",
   "metadata": {},
   "source": [
    "# Utilities"
   ]
  },
  {
   "cell_type": "code",
   "execution_count": 2,
   "metadata": {},
   "outputs": [],
   "source": [
    "def create_data(src, mask, label=False):\n",
    "    \n",
    "    \"\"\"Load Brats data and save as numpy array.\n",
    "    \n",
    "    Parameters: \n",
    "        src(string): Specify source folder\n",
    "        mask(string): Specify mask of filename \n",
    "        label(bool): Determine reading image or mask\n",
    "    \"\"\"\n",
    "    \n",
    "    files = glob.glob(src + mask, recursive=True)\n",
    "    \n",
    "    imgs = []\n",
    "    \n",
    "    print('Processing---', mask)\n",
    "    for file in files:\n",
    "        img = io.imread(file, plugin='simpleitk')\n",
    "        if label:\n",
    "            if label_num == 5:\n",
    "                img[img != 0] = 1       # Region 1 => 1+2+3+4 complete tumor\n",
    "            if label_num == 1:\n",
    "                img[img != 1] = 0       # Only left necrosis\n",
    "            if label_num == 2:\n",
    "                img[img == 2] = 0       # Turn edema to 0\n",
    "                img[img != 0] = 1       # Only keep necrosis, ET, NET = Tumor core\n",
    "            if label_num == 4:\n",
    "                img[img != 4] = 0       # Only left ET\n",
    "                img[img == 4] = 1\n",
    "            img = np.asarray(img, dtype = np.int32)\n",
    "            for s in img:\n",
    "                imgs.append(s)\n",
    "        else:\n",
    "            img = ((img-np.min(img)) / np.max(img)) * 2 - 1\n",
    "            img = np.asarray(img, dtype = np.float32)\n",
    "            for s in img:\n",
    "                imgs.append(s)\n",
    "    if label:            \n",
    "        name = './data/sample_{}_mask'.format(pul_seq)\n",
    "    else: \n",
    "        name = './data/sample_{}_image'.format(pul_seq)\n",
    "    np.save(name, np.array(imgs).astype('float32'))  # Save at home\n",
    "    print('Saved', len(files), 'subjects to', name)"
   ]
  },
  {
   "cell_type": "code",
   "execution_count": 3,
   "metadata": {},
   "outputs": [],
   "source": [
    "def show_image(array, array2, random = False):\n",
    "    \n",
    "    \"\"\"Show 2-D slices containing images and masks from 3-D array \n",
    "\n",
    "    Parameters:\n",
    "        array(np.ndarray[int, int, int]): 3-D Image array expected each of shape [N, H, W]\n",
    "        array2(np.ndarray[int, int, int]): 3-D Image array expected each of shape [N, H, W]\n",
    "        random(bool): Flag determines show image following by index sequence or not.\n",
    "\n",
    "    \"\"\"\n",
    "    \n",
    "    n = 5\n",
    "    if random == True:\n",
    "        indices = np.random.randint(len(array), size=n)\n",
    "        print('Show Random {} images and masks'.format(n))\n",
    "    else:\n",
    "        indices = np.arange(n)\n",
    "        print('Show First {} images and masks'.format(n))\n",
    "    images = array[indices, :]\n",
    "    masks = array2[indices, :]\n",
    "    fig, axes = plt.subplots(2, 5, figsize=(15,5))\n",
    "    for i in range(5):\n",
    "        image = images[i, :, :]\n",
    "        mask = masks[i, :, :]\n",
    "        axes[0, i].set_title(\"Image Index = {}\".format(indices[i]))\n",
    "        axes[0, i].axis(\"off\")\n",
    "        axes[0, i].imshow(image.reshape(images.shape[1], images.shape[2]), cmap='gray')\n",
    "        axes[1, i].set_title(\"Mask Index = {}\".format(indices[i]))\n",
    "        axes[1, i].axis(\"off\")\n",
    "        axes[1, i].imshow(mask.reshape(masks.shape[1], masks.shape[2]), cmap='gray')\n",
    "    plt.show()"
   ]
  },
  {
   "cell_type": "markdown",
   "metadata": {},
   "source": [
    "# Data preparation\n",
    "* Brats 2015 provide multi-modal MRI images inlcuding 4 types of pulse sequences\n",
    "    * T1-weighted (T1)\n",
    "    * T1-weighted with contrast enhancement (T1ce) \n",
    "    * T2-weighted (T2)\n",
    "    * T2-weighted with fluid attenuated inversion recovery (T2-Flair)\n",
    "* Brats 2015 is consisted of 220 high grade gliomas (HGG) and 54 low grade gliomas (LGG) MRIs scans from different patients.\n",
    "    * Ground truth of 4 sub-regions available\n",
    "        * Edema\n",
    "        * Enhancing tumor\n",
    "        * Non-enhancing tumor\n",
    "        * Necrosis\n",
    "* The task aims at segmenting full tumor lesions which are union of 4 types of labels mentioned above in HGG using T2-Flair data only.\n",
    "* Each subject's original data is in the shape of [155, 240, 240] and normalized to range [-1 1] \n",
    "* Load and save the dataset by the given function\n",
    "* Subplot a figure using a single subject's three dimensional data including images below\n",
    "    * Axial view from middle slice\n",
    "    * Sagital view from middle slice\n",
    "    * Coronal view from middle slice\n",
    "* Splitting dataset into training and testing set by your implemented function\n",
    "    * Print the shape and display the images with masks by given function"
   ]
  },
  {
   "cell_type": "code",
   "execution_count": 4,
   "metadata": {},
   "outputs": [],
   "source": [
    "def split_dataset(images, masks, image_size, seed=0, split=0.8):\n",
    "    \n",
    "    \"\"\"Split data into training and testing sets using each subject's 50~90th axial slices data\n",
    "\n",
    "    Parameters:\n",
    "        images(np.ndarray[int, int, int]): 3-D Image array expected each of shape [N, H, W]\n",
    "        masks(np.ndarray[int, int, int]): 3-D Image array expected each of shape [N, H, W]\n",
    "        image_size(int): Resize image width and height with img_size\n",
    "        seed(int): Specify fixed seed number\n",
    "        split(float): Proportion of the dataset to include in the training set\n",
    "        \n",
    "    Returns:\n",
    "        x_train(np.ndarray[int, int, int]): Training set of images, shape [N, H, W]\n",
    "        y_train(np.ndarray[int, int, int]): Training set of masks, shape [N, H, W]\n",
    "        x_test(np.ndarray[int, int, int]): Testing set of images, shape [N, H, W]\n",
    "        y_test(np.ndarray[int, int, int]): Testing set of masks, shape [N, H, W]\n",
    "    \"\"\"\n",
    "    \n",
    "    ## %%%%%%%%%%%%%%% Your code here - Begin %%%%%%%%%%%%%%%\n",
    "    #########################################################\n",
    "\n",
    "    #########################################################\n",
    "    ## %%%%%%%%%%%%%%% Your code here - End %%%%%%%%%%%%%%%%%\n",
    "    \n",
    "    return np.array(x_train), np.array(y_train), np.array(x_test), np.array(y_test)"
   ]
  },
  {
   "cell_type": "code",
   "execution_count": 5,
   "metadata": {},
   "outputs": [],
   "source": [
    "pul_seq = 'Flair'\n",
    "label_num = 5   # 1 = Necrosis, 2 = Tumor core, 4 = Enhancing Tumor, 5 = Whole Tumor\n",
    "\n",
    "# create_data('./BRATS2015_Training/HGG/', '**/*{}*.mha'.format(pul_seq), label=False)\n",
    "# create_data('./BRATS2015_Training/HGG/', '**/*OT*.mha', label=True)\n",
    "\n",
    "imgs = np.load('./data/sample_{}_image.npy'.format(pul_seq))\n",
    "masks = np.load('./data/sample_{}_mask.npy'.format(pul_seq))"
   ]
  },
  {
   "cell_type": "code",
   "execution_count": 6,
   "metadata": {},
   "outputs": [],
   "source": [
    "## %%%%%%%%%%%%%%% Your code here - Begin %%%%%%%%%%%%%%%\n",
    "#########################################################\n",
    "\n",
    "#########################################################\n",
    "## %%%%%%%%%%%%%%% Your code here - End %%%%%%%%%%%%%%%%%"
   ]
  },
  {
   "cell_type": "code",
   "execution_count": 7,
   "metadata": {},
   "outputs": [],
   "source": [
    "## %%%%%%%%%%%%%%% Your code here - Begin %%%%%%%%%%%%%%%\n",
    "#########################################################\n",
    "\n",
    "#########################################################\n",
    "## %%%%%%%%%%%%%%% Your code here - End %%%%%%%%%%%%%%%%%"
   ]
  },
  {
   "cell_type": "markdown",
   "metadata": {},
   "source": [
    "# Training\n",
    "## Define the model \n",
    "* Display basic information about model containing total number of parameters\n",
    "* Implement dice coefficient loss as loss function\n",
    "* Save model architecture as .png or .jpg file under current directory"
   ]
  },
  {
   "cell_type": "code",
   "execution_count": null,
   "metadata": {},
   "outputs": [],
   "source": [
    "def dice_coef(y_true, y_pred):\n",
    "    ## %%%%%%%%%%%%%%% Your code here - Begin %%%%%%%%%%%%%%%\n",
    "    #########################################################\n",
    "\n",
    "    #########################################################\n",
    "    ## %%%%%%%%%%%%%%% Your code here - End %%%%%%%%%%%%%%%%%\n",
    "    return dc\n",
    "\n",
    "def dice_coef_loss(y_true, y_pred):\n",
    "    return 1-dice_coef(y_true, y_pred)"
   ]
  },
  {
   "cell_type": "code",
   "execution_count": null,
   "metadata": {},
   "outputs": [],
   "source": [
    "def build_model(image_size=192):\n",
    "    ## %%%%%%%%%%%%%%% Your code here - Begin %%%%%%%%%%%%%%%\n",
    "    #########################################################\n",
    "\n",
    "    #########################################################\n",
    "    ## %%%%%%%%%%%%%%% Your code here - End %%%%%%%%%%%%%%%%%\n",
    "    return model"
   ]
  },
  {
   "cell_type": "markdown",
   "metadata": {},
   "source": [
    "## Model fitting with dataset\n",
    "* You may custumize the hyperparameters\n",
    "* Add validation set to evaluate model performance during the training process\n",
    "* Plot the history data of loss value in both training and validation set"
   ]
  },
  {
   "cell_type": "code",
   "execution_count": 10,
   "metadata": {},
   "outputs": [],
   "source": [
    "## %%%%%%%%%%%%%%% Your code here - Begin %%%%%%%%%%%%%%%\n",
    "#########################################################\n",
    "\n",
    "#########################################################\n",
    "## %%%%%%%%%%%%%%% Your code here - End %%%%%%%%%%%%%%%%%"
   ]
  },
  {
   "cell_type": "code",
   "execution_count": 11,
   "metadata": {},
   "outputs": [],
   "source": [
    "## %%%%%%%%%%%%%%% Your code here - Begin %%%%%%%%%%%%%%%\n",
    "#########################################################\n",
    "\n",
    "#########################################################\n",
    "## %%%%%%%%%%%%%%% Your code here - End %%%%%%%%%%%%%%%%%"
   ]
  },
  {
   "cell_type": "markdown",
   "metadata": {},
   "source": [
    "# Evaluation\n",
    "* Make prediction on testing set and display\n",
    "* Calculate the average DC in testing set "
   ]
  },
  {
   "cell_type": "code",
   "execution_count": 8,
   "metadata": {},
   "outputs": [],
   "source": [
    "## %%%%%%%%%%%%%%% Your code here - Begin %%%%%%%%%%%%%%%\n",
    "#########################################################\n",
    "\n",
    "#########################################################\n",
    "## %%%%%%%%%%%%%%% Your code here - End %%%%%%%%%%%%%%%%%"
   ]
  },
  {
   "cell_type": "code",
   "execution_count": 9,
   "metadata": {},
   "outputs": [],
   "source": [
    "## %%%%%%%%%%%%%%% Your code here - Begin %%%%%%%%%%%%%%%\n",
    "#########################################################\n",
    "\n",
    "#########################################################\n",
    "## %%%%%%%%%%%%%%% Your code here - End %%%%%%%%%%%%%%%%%"
   ]
  },
  {
   "cell_type": "code",
   "execution_count": null,
   "metadata": {},
   "outputs": [],
   "source": []
  }
 ],
 "metadata": {
  "kernelspec": {
   "display_name": "tensorflow",
   "language": "python",
   "name": "tensorflow"
  },
  "language_info": {
   "codemirror_mode": {
    "name": "ipython",
    "version": 3
   },
   "file_extension": ".py",
   "mimetype": "text/x-python",
   "name": "python",
   "nbconvert_exporter": "python",
   "pygments_lexer": "ipython3",
   "version": "3.7.9"
  }
 },
 "nbformat": 4,
 "nbformat_minor": 4
}
