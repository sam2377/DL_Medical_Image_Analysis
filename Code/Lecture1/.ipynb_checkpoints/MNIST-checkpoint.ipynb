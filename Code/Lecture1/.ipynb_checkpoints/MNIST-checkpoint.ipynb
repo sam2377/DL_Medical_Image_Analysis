{
 "cells": [
  {
   "cell_type": "markdown",
   "metadata": {},
   "source": [
    "# Setup "
   ]
  },
  {
   "cell_type": "code",
   "execution_count": 1,
   "metadata": {},
   "outputs": [],
   "source": [
    "import os\n",
    "os.environ['TF_CPP_MIN_LOG_LEVEL'] = '3' \n",
    "import tensorflow as tf\n",
    "from tensorflow import keras\n",
    "from tensorflow.keras.datasets import mnist\n",
    "from tensorflow.keras.models import Sequential\n",
    "from tensorflow.keras import layers\n",
    "from tensorflow.keras.optimizers import RMSprop\n",
    "from tensorflow.keras.callbacks import EarlyStopping, CSVLogger\n",
    "import matplotlib.pyplot as plt\n",
    "import numpy as np\n",
    "import seaborn as sns\n",
    "\n",
    "from sklearn.ensemble import RandomForestClassifier\n",
    "from sklearn.metrics import confusion_matrix, accuracy_score"
   ]
  },
  {
   "cell_type": "code",
   "execution_count": 2,
   "metadata": {},
   "outputs": [
    {
     "name": "stdout",
     "output_type": "stream",
     "text": [
      "Default GPU Device:/device:GPU:0\n"
     ]
    }
   ],
   "source": [
    "if tf.test.gpu_device_name(): \n",
    "    print('Default GPU Device:{}'.format(tf.test.gpu_device_name()))\n",
    "else:\n",
    "    print(\"Please install GPU version of TF\")"
   ]
  },
  {
   "cell_type": "code",
   "execution_count": 3,
   "metadata": {},
   "outputs": [
    {
     "data": {
      "text/plain": [
       "'2.4.1'"
      ]
     },
     "execution_count": 3,
     "metadata": {},
     "output_type": "execute_result"
    }
   ],
   "source": [
    "tf.version.VERSION"
   ]
  },
  {
   "cell_type": "code",
   "execution_count": 4,
   "metadata": {},
   "outputs": [
    {
     "data": {
      "text/plain": [
       "[PhysicalDevice(name='/physical_device:GPU:0', device_type='GPU')]"
      ]
     },
     "execution_count": 4,
     "metadata": {},
     "output_type": "execute_result"
    }
   ],
   "source": [
    "tf.config.list_physical_devices('GPU')"
   ]
  },
  {
   "cell_type": "code",
   "execution_count": 5,
   "metadata": {},
   "outputs": [],
   "source": [
    "def plot_data(x_train, y_train):\n",
    "    # Plot first 10 data in training set\n",
    "    fig, axes = plt.subplots(2, 5, figsize=(15,5))\n",
    "    for i in range(2):\n",
    "        for j in range(5):\n",
    "            axes[i, j].set_title(\"Label = {}\".format(y_train[i*5+j]))\n",
    "            axes[i, j].axis(\"off\")\n",
    "            axes[i, j].imshow(x_train[i*5+j].reshape(28, 28), cmap=None)\n",
    "    plt.show()"
   ]
  },
  {
   "cell_type": "code",
   "execution_count": 6,
   "metadata": {},
   "outputs": [],
   "source": [
    "def build_model(arg):\n",
    "    if arg == 'NN':\n",
    "        print('Using NN Sequential Model')\n",
    "        # Prepare parameters\n",
    "        num_classes = 10\n",
    "        input_shape = (28, 28, 1)\n",
    "        model = keras.Sequential(\n",
    "            [\n",
    "                keras.Input(shape=input_shape),\n",
    "                layers.Conv2D(32, kernel_size=(3, 3), activation=\"relu\"),\n",
    "                layers.MaxPooling2D(pool_size=(2, 2)),\n",
    "                layers.Conv2D(64, kernel_size=(3, 3), activation=\"relu\"),\n",
    "                layers.MaxPooling2D(pool_size=(2, 2)),\n",
    "                layers.Flatten(),\n",
    "                layers.Dropout(0.5),\n",
    "                layers.Dense(num_classes, activation=\"softmax\"),\n",
    "            ]\n",
    "        )\n",
    "        model.summary()\n",
    "        model.compile(loss='categorical_crossentropy',\n",
    "                      optimizer=RMSprop(),\n",
    "                      metrics=['accuracy'])\n",
    "    elif arg == 'RandomForest':\n",
    "        print('Using RandomForest Model')\n",
    "        model = RandomForestClassifier(n_estimators=100, max_depth=10, min_samples_split=10)\n",
    "    return model"
   ]
  },
  {
   "cell_type": "code",
   "execution_count": 7,
   "metadata": {},
   "outputs": [],
   "source": [
    "def train_with_data(arg, model, x_train, y_train):\n",
    "    if arg == 'NN':\n",
    "        print('Training with NN Sequential Model')\n",
    "        num_classes = 10\n",
    "        # Make sure images have shape (28, 28, 1)\n",
    "        x_train = np.expand_dims(x_train, -1)\n",
    "        # convert class vectors to binary class matrices\n",
    "        y_train = keras.utils.to_categorical(y_train, num_classes)\n",
    "        \n",
    "        es = EarlyStopping(monitor='val_loss', patience=2)\n",
    "        csv_logger = CSVLogger('training.log')\n",
    "        # Prepare parameter\n",
    "        batch_size = 128\n",
    "        epochs = 20\n",
    "\n",
    "        # Fit the data\n",
    "        hist = model.fit(x_train, y_train,\n",
    "                         batch_size=batch_size,\n",
    "                         epochs=epochs,\n",
    "                         verbose=1,\n",
    "                         validation_split=0.1,\n",
    "                         callbacks=[es, csv_logger])\n",
    "        \n",
    "        loss = hist.history['loss']\n",
    "        val_loss = hist.history['val_loss']\n",
    "        epochs = len(loss)\n",
    "        plt.plot(range(epochs), loss, marker='.', label='loss(training data)')\n",
    "        plt.plot(range(epochs), val_loss, marker='.', label='val_loss(evaluationdata)')\n",
    "        plt.legend(loc='best')\n",
    "        plt.grid()\n",
    "        plt.xlabel('epoch')\n",
    "        plt.ylabel('loss')\n",
    "        plt.show()\n",
    "        \n",
    "    elif arg == 'RandomForest':\n",
    "        print('Training with RandomForest Model')\n",
    "        x_train = x_train.reshape(-1, 28*28)\n",
    "#         print(x_train.shape)\n",
    "        model.fit(x_train, y_train)"
   ]
  },
  {
   "cell_type": "code",
   "execution_count": 8,
   "metadata": {},
   "outputs": [],
   "source": [
    "def evaluate_with_data(arg, model, x_test, y_test):\n",
    "    if arg == 'NN':\n",
    "        print('Evaluating with NN Sequential Model')\n",
    "        num_classes = 10\n",
    "        x_test = np.expand_dims(x_test, -1)\n",
    "        y_test = keras.utils.to_categorical(y_test, num_classes)\n",
    "        y_pred = np.argmax(model.predict(x_test), axis=-1)\n",
    "        score = model.evaluate(x_test, y_test, verbose=0)\n",
    "        y_test = np.argmax(y_test, axis=1)\n",
    "\n",
    "        print('Test loss:', score[0])\n",
    "        print('Test acc:', score[1])\n",
    "    elif arg == 'RandomForest':\n",
    "        print('Evaluating with RandomForest Model')\n",
    "        x_test = x_test.reshape(-1, 28*28)\n",
    "        y_pred = model.predict(x_test)\n",
    "        print(\"Test acc: {0:.3f}%\".format(accuracy_score(y_test, y_pred) * 100))\n",
    "        \n",
    "    \n",
    "    mtx = confusion_matrix(y_test, y_pred)\n",
    "    fig, ax = plt.subplots(figsize=(8,8))\n",
    "    ax.set_title('Confusion matrix')\n",
    "    sns.heatmap(mtx, annot=True, fmt='d', linewidths=.5,  cbar=False, ax=ax)\n",
    "    plt.ylabel('true label')\n",
    "    plt.xlabel('predicted label')\n"
   ]
  },
  {
   "cell_type": "code",
   "execution_count": 9,
   "metadata": {
    "scrolled": false
   },
   "outputs": [
    {
     "name": "stdout",
     "output_type": "stream",
     "text": [
      "x_train shape: (60000, 28, 28)\n",
      "y_train shape: (60000,)\n"
     ]
    },
    {
     "data": {
      "image/png": "[encoded data removed]",
      "text/plain": [
       "<Figure size 1080x360 with 10 Axes>"
      ]
     },
     "metadata": {
      "needs_background": "light"
     },
     "output_type": "display_data"
    },
    {
     "name": "stdout",
     "output_type": "stream",
     "text": [
      "Using NN Sequential Model\n",
      "Model: \"sequential\"\n",
      "_________________________________________________________________\n",
      "Layer (type)                 Output Shape              Param #   \n",
      "=================================================================\n",
      "conv2d (Conv2D)              (None, 26, 26, 32)        320       \n",
      "_________________________________________________________________\n",
      "max_pooling2d (MaxPooling2D) (None, 13, 13, 32)        0         \n",
      "_________________________________________________________________\n",
      "conv2d_1 (Conv2D)            (None, 11, 11, 64)        18496     \n",
      "_________________________________________________________________\n",
      "max_pooling2d_1 (MaxPooling2 (None, 5, 5, 64)          0         \n",
      "_________________________________________________________________\n",
      "flatten (Flatten)            (None, 1600)              0         \n",
      "_________________________________________________________________\n",
      "dropout (Dropout)            (None, 1600)              0         \n",
      "_________________________________________________________________\n",
      "dense (Dense)                (None, 10)                16010     \n",
      "=================================================================\n",
      "Total params: 34,826\n",
      "Trainable params: 34,826\n",
      "Non-trainable params: 0\n",
      "_________________________________________________________________\n",
      "Training with NN Sequential Model\n",
      "Epoch 1/20\n",
      "422/422 [==============================] - 3s 4ms/step - loss: 0.6555 - accuracy: 0.7996 - val_loss: 0.0890 - val_accuracy: 0.9752\n",
      "Epoch 2/20\n",
      "422/422 [==============================] - 2s 4ms/step - loss: 0.1183 - accuracy: 0.9644 - val_loss: 0.0553 - val_accuracy: 0.9840\n",
      "Epoch 3/20\n",
      "422/422 [==============================] - 2s 5ms/step - loss: 0.0896 - accuracy: 0.9737 - val_loss: 0.0515 - val_accuracy: 0.9840\n",
      "Epoch 4/20\n",
      "422/422 [==============================] - 1s 3ms/step - loss: 0.0670 - accuracy: 0.9792 - val_loss: 0.0416 - val_accuracy: 0.9887\n",
      "Epoch 5/20\n",
      "422/422 [==============================] - 2s 5ms/step - loss: 0.0607 - accuracy: 0.9806 - val_loss: 0.0396 - val_accuracy: 0.9887\n",
      "Epoch 6/20\n",
      "422/422 [==============================] - 2s 5ms/step - loss: 0.0564 - accuracy: 0.9829 - val_loss: 0.0382 - val_accuracy: 0.9897\n",
      "Epoch 7/20\n",
      "422/422 [==============================] - 1s 4ms/step - loss: 0.0480 - accuracy: 0.9844 - val_loss: 0.0355 - val_accuracy: 0.9893\n",
      "Epoch 8/20\n",
      "422/422 [==============================] - 2s 5ms/step - loss: 0.0473 - accuracy: 0.9862 - val_loss: 0.0334 - val_accuracy: 0.9898\n",
      "Epoch 9/20\n",
      "422/422 [==============================] - 1s 3ms/step - loss: 0.0434 - accuracy: 0.9863 - val_loss: 0.0323 - val_accuracy: 0.9923\n",
      "Epoch 10/20\n",
      "422/422 [==============================] - 2s 4ms/step - loss: 0.0426 - accuracy: 0.9873 - val_loss: 0.0318 - val_accuracy: 0.9928\n",
      "Epoch 11/20\n",
      "422/422 [==============================] - 2s 6ms/step - loss: 0.0383 - accuracy: 0.9881 - val_loss: 0.0302 - val_accuracy: 0.9923\n",
      "Epoch 12/20\n",
      "422/422 [==============================] - 1s 3ms/step - loss: 0.0405 - accuracy: 0.9876 - val_loss: 0.0312 - val_accuracy: 0.9915\n",
      "Epoch 13/20\n",
      "422/422 [==============================] - 2s 5ms/step - loss: 0.0357 - accuracy: 0.9888 - val_loss: 0.0332 - val_accuracy: 0.9908\n"
     ]
    },
    {
     "data": {
      "image/png": "[encoded data removed]",
      "text/plain": [
       "<Figure size 432x288 with 1 Axes>"
      ]
     },
     "metadata": {
      "needs_background": "light"
     },
     "output_type": "display_data"
    },
    {
     "name": "stdout",
     "output_type": "stream",
     "text": [
      "Evaluating with NN Sequential Model\n",
      "Test loss: 0.02629343792796135\n",
      "Test acc: 0.9919000267982483\n"
     ]
    },
    {
     "data": {
      "image/png": "[encoded data removed]",
      "text/plain": [
       "<Figure size 576x576 with 1 Axes>"
      ]
     },
     "metadata": {
      "needs_background": "light"
     },
     "output_type": "display_data"
    }
   ],
   "source": [
    "if __name__ == '__main__':\n",
    "   \n",
    "    # Split data between train and test sets\n",
    "    # Check if MNIST dataset exists or not (download MNIST and save at path relative to ~/.keras/datasets).\n",
    "    (x_train, y_train), (x_test, y_test) = keras.datasets.mnist.load_data(path=\"mnist.npz\")\n",
    "\n",
    "    # Scale images to the [0, 1] range\n",
    "    x_train = x_train.astype(\"float32\") / 255\n",
    "    x_test = x_test.astype(\"float32\") / 255\n",
    "\n",
    "    print(\"x_train shape:\", x_train.shape)\n",
    "    print(\"y_train shape:\", y_train.shape)\n",
    "    \n",
    "    plot_data(x_train, y_train)\n",
    "\n",
    "    model_name = 'NN'\n",
    "    \n",
    "    model = build_model(model_name)\n",
    "    \n",
    "    train_with_data(model_name, model, x_train, y_train)\n",
    "    \n",
    "    evaluate_with_data(model_name, model, x_test, y_test)"
   ]
  }
 ],
 "metadata": {
  "kernelspec": {
   "display_name": "tensorflow",
   "language": "python",
   "name": "tensorflow"
  },
  "language_info": {
   "codemirror_mode": {
    "name": "ipython",
    "version": 3
   },
   "file_extension": ".py",
   "mimetype": "text/x-python",
   "name": "python",
   "nbconvert_exporter": "python",
   "pygments_lexer": "ipython3",
   "version": "3.7.9"
  }
 },
 "nbformat": 4,
 "nbformat_minor": 4
}
