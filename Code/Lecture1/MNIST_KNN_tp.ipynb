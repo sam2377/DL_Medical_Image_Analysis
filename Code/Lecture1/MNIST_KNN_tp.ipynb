{
  "nbformat": 4,
  "nbformat_minor": 0,
  "metadata": {
    "colab": {
      "name": "MNIST_KNN_tp.ipynb",
      "provenance": [],
      "authorship_tag": "ABX9TyM15QtU6U1zq24TeERrUkvp",
      "include_colab_link": true
    },
    "kernelspec": {
      "name": "python3",
      "display_name": "Python 3"
    },
    "language_info": {
      "name": "python"
    }
  },
  "cells": [
    {
      "cell_type": "markdown",
      "metadata": {
        "id": "view-in-github",
        "colab_type": "text"
      },
      "source": [
        "<a href=\"https://colab.research.google.com/github/sam2377/DL_Medical_Image_Analysis/blob/master/Code/Lecture1/MNIST_KNN_tp.ipynb\" target=\"_parent\"><img src=\"https://colab.research.google.com/assets/colab-badge.svg\" alt=\"Open In Colab\"/></a>"
      ]
    },
    {
      "cell_type": "markdown",
      "metadata": {
        "id": "N1OguIAWlz0R"
      },
      "source": [
        "MNIST KNN"
      ]
    },
    {
      "cell_type": "markdown",
      "metadata": {
        "id": "2Ccl9fdKl1-v"
      },
      "source": [
        "1. import the necessary packages"
      ]
    },
    {
      "cell_type": "code",
      "metadata": {
        "id": "pZOm0qICl5F_"
      },
      "source": [
        "# import necessary packages\n",
        "import numpy as np\n",
        "from tensorflow import keras\n",
        "from tensorflow.keras import layers\n",
        "from sklearn.model_selection import train_test_split\n",
        "from sklearn.neighbors import KNeighborsClassifier\n",
        "import tensorflow as tf\n",
        "import matplotlib.pyplot as plt\n"
      ],
      "execution_count": null,
      "outputs": []
    },
    {
      "cell_type": "markdown",
      "metadata": {
        "id": "hUvJC81el9sX"
      },
      "source": [
        "2. desplay ramdom images in dataset (10 images)"
      ]
    },
    {
      "cell_type": "code",
      "metadata": {
        "id": "hFd48J97l7GI"
      },
      "source": [
        "def display(array):\n",
        "    #Displays 10 random images \n",
        "    n = 10\n",
        "    \n",
        "    plt.figure(figsize=(20, 4))\n",
        "    for i in range(10):\n",
        "\n",
        "    plt.show()"
      ],
      "execution_count": null,
      "outputs": []
    },
    {
      "cell_type": "markdown",
      "metadata": {
        "id": "RkPNs2HsmAMy"
      },
      "source": [
        "3. Use KNN to classify 10 categories"
      ]
    },
    {
      "cell_type": "code",
      "metadata": {
        "id": "Ve_-G9zemCCa"
      },
      "source": [
        "num_classes = 10\n",
        "\n",
        "# Load the data, split between train and test sets\n",
        "\n",
        "# Scale images to the [0, 1] range\n",
        "\n",
        "# show 10 random images in train dataset\n",
        "display()\n",
        "# set pixels as features => flatten\n",
        "\n",
        "\n",
        "# convert class vectors to binary class matrices\n",
        "\n",
        "\n",
        "# use KNN model, train and predict\n",
        "\n"
      ],
      "execution_count": null,
      "outputs": []
    },
    {
      "cell_type": "markdown",
      "metadata": {
        "id": "s-tBvLKbmG54"
      },
      "source": [
        "4. Show Accuracy"
      ]
    },
    {
      "cell_type": "code",
      "metadata": {
        "id": "CpT8pxJYmHYJ"
      },
      "source": [
        "# Show Accuracy\n",
        "from sklearn import metrics\n"
      ],
      "execution_count": null,
      "outputs": []
    }
  ]
}