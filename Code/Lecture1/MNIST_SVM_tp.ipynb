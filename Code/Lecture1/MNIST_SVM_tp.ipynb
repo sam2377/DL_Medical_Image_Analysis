{
  "nbformat": 4,
  "nbformat_minor": 0,
  "metadata": {
    "colab": {
      "name": "MNIST_SVM_tp.ipynb",
      "provenance": [],
      "collapsed_sections": [],
      "authorship_tag": "ABX9TyP9ZXwJ8prUcCDIYzzzrQoR",
      "include_colab_link": true
    },
    "kernelspec": {
      "name": "python3",
      "display_name": "Python 3"
    },
    "language_info": {
      "name": "python"
    }
  },
  "cells": [
    {
      "cell_type": "markdown",
      "metadata": {
        "id": "view-in-github",
        "colab_type": "text"
      },
      "source": [
        "<a href=\"https://colab.research.google.com/github/sam2377/DL_Medical_Image_Analysis/blob/master/Code/Lecture1/MNIST_SVM_tp.ipynb\" target=\"_parent\"><img src=\"https://colab.research.google.com/assets/colab-badge.svg\" alt=\"Open In Colab\"/></a>"
      ]
    },
    {
      "cell_type": "markdown",
      "metadata": {
        "id": "tIMz-J3KPmE2"
      },
      "source": [
        "MNIST SVM"
      ]
    },
    {
      "cell_type": "markdown",
      "metadata": {
        "id": "06C61nBcPl38"
      },
      "source": [
        "1. import the necessary packages"
      ]
    },
    {
      "cell_type": "code",
      "metadata": {
        "id": "OH4GMUWqPf3k"
      },
      "source": [
        "import numpy as np\n",
        "from sklearn.model_selection import train_test_split\n",
        "from sklearn.svm import SVC\n",
        "import matplotlib.pyplot as plt\n",
        "from sklearn.datasets  import load_digits"
      ],
      "execution_count": null,
      "outputs": []
    },
    {
      "cell_type": "markdown",
      "metadata": {
        "id": "QRyfx4nVPzFL"
      },
      "source": [
        "2. desplay ramdom images in dataset (10 images)"
      ]
    },
    {
      "cell_type": "code",
      "metadata": {
        "id": "tSHyfM9NP4e-"
      },
      "source": [
        "def display(array):\n",
        "    #Displays 10 random images \n",
        "    n = 10\n",
        "    plt.figure(figsize=(20, 4))\n",
        "    for i in range(10):\n",
        "      \n",
        "    plt.show()"
      ],
      "execution_count": null,
      "outputs": []
    },
    {
      "cell_type": "markdown",
      "metadata": {
        "id": "w44_mUWVPyVe"
      },
      "source": [
        "3. Use KNN to classify 10 categories"
      ]
    },
    {
      "cell_type": "code",
      "metadata": {
        "id": "YryPA04hP7FR"
      },
      "source": [
        "num_classes = 10\n",
        "# the data, split between train and test sets\n",
        "mnist = load_digits()\n",
        "\n",
        "# Scale images to the [0, 1] range\n",
        "\n",
        "# show dataset\n",
        "display()\n",
        "# use SVM model\n",
        "model = \n",
        "\n"
      ],
      "execution_count": null,
      "outputs": []
    },
    {
      "cell_type": "markdown",
      "metadata": {
        "id": "K1_Ivd5HP_ZF"
      },
      "source": [
        "4. Show Accuracy"
      ]
    },
    {
      "cell_type": "code",
      "metadata": {
        "id": "PDFDIf32QAAW"
      },
      "source": [
        "# show accuarcy\n",
        "from sklearn import metrics\n"
      ],
      "execution_count": null,
      "outputs": []
    }
  ]
}