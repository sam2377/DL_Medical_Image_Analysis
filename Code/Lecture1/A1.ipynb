{
  "nbformat": 4,
  "nbformat_minor": 0,
  "metadata": {
    "colab": {
      "name": "A1.ipynb",
      "provenance": [],
      "collapsed_sections": [],
      "authorship_tag": "ABX9TyNbLmLOpoFIHZVFHw+nSc8c",
      "include_colab_link": true
    },
    "kernelspec": {
      "name": "python3",
      "display_name": "Python 3"
    },
    "language_info": {
      "name": "python"
    }
  },
  "cells": [
    {
      "cell_type": "markdown",
      "metadata": {
        "id": "view-in-github",
        "colab_type": "text"
      },
      "source": [
        "<a href=\"https://colab.research.google.com/github/sam2377/DL_Medical_Image_Analysis/blob/master/Code/Lecture1/A1.ipynb\" target=\"_parent\"><img src=\"https://colab.research.google.com/assets/colab-badge.svg\" alt=\"Open In Colab\"/></a>"
      ]
    },
    {
      "cell_type": "code",
      "metadata": {
        "id": "ZXWWoLIUtBt0"
      },
      "source": [
        "# from google.colab import drive\n",
        "# drive.mount('/content/gdrive')"
      ],
      "execution_count": 84,
      "outputs": []
    },
    {
      "cell_type": "markdown",
      "metadata": {
        "id": "zXjJDuEbow4D"
      },
      "source": [
        "# Assignment 1\n",
        "\n",
        "* In this assignment, we will use SVM and KNN to classify MNIST dataset."
      ]
    },
    {
      "cell_type": "markdown",
      "metadata": {
        "id": "MZib6mzko02u"
      },
      "source": [
        "* import the necessary packages"
      ]
    },
    {
      "cell_type": "code",
      "metadata": {
        "id": "AxWKGx5koqQi"
      },
      "source": [
        "import numpy as np\n",
        "from sklearn.model_selection import train_test_split\n",
        "from sklearn.svm import SVC\n",
        "import matplotlib.pyplot as plt\n",
        "from sklearn.datasets  import load_digits\n",
        "from keras.utils import np_utils\n",
        "from sklearn.neighbors import KNeighborsClassifier\n",
        "import math\n",
        "from tensorflow.keras.models import Sequential\n",
        "from tensorflow.keras.layers import Activation, Dense"
      ],
      "execution_count": 85,
      "outputs": []
    },
    {
      "cell_type": "markdown",
      "metadata": {
        "id": "ChLwv4myowWv"
      },
      "source": [
        "* desplay ramdom images in dataset (10 images)"
      ]
    },
    {
      "cell_type": "code",
      "metadata": {
        "id": "eqDRH2JsMtJX"
      },
      "source": [
        "def display(array):\n",
        "    #Displays 10 random images \n",
        "    n = 10\n",
        "    indices = np.random.randint(len(array), size=n)\n",
        "    images = array[indices, :]\n",
        "    plt.figure(figsize=(20, 4))\n",
        "    for i in range(10):\n",
        "        image = images[i, :]\n",
        "        ax = plt.subplot(2, n, i + 1)\n",
        "        plt.imshow(image.reshape(8, 8))\n",
        "        plt.gray()\n",
        "        ax.get_xaxis().set_visible(False)\n",
        "        ax.get_yaxis().set_visible(False)\n",
        "    plt.show()"
      ],
      "execution_count": 86,
      "outputs": []
    },
    {
      "cell_type": "markdown",
      "metadata": {
        "id": "Vu6lpGXgbEtT"
      },
      "source": [
        "* load MINST dataset"
      ]
    },
    {
      "cell_type": "code",
      "metadata": {
        "colab": {
          "base_uri": "https://localhost:8080/",
          "height": 129
        },
        "id": "5_2IhjB_bMqD",
        "outputId": "5b2b428f-dffa-42ef-98f1-9ca874e328cd"
      },
      "source": [
        "num_classes = 10\n",
        "# the data, split between train and test sets\n",
        "mnist = load_digits()\n",
        "x_train, x_test, y_train, y_test = train_test_split(mnist.data,mnist.target,test_size=0.25,random_state=40)\n",
        "# Scale images to the [0, 1] range\n",
        "x_train = x_train.astype(\"float32\") / 255\n",
        "x_test = x_test.astype(\"float32\") / 255\n",
        "# show dataset\n",
        "display(x_train)"
      ],
      "execution_count": 87,
      "outputs": [
        {
          "output_type": "display_data",
          "data": {
            "image/png": "[encoded data removed]",
            "text/plain": [
              "<Figure size 1440x288 with 10 Axes>"
            ]
          },
          "metadata": {
            "needs_background": "light"
          }
        }
      ]
    },
    {
      "cell_type": "markdown",
      "metadata": {
        "id": "1zAZZDDQMxGm"
      },
      "source": [
        "1.1 Use SVM to classify 10 categories\n",
        "* Use: sklearn SVC"
      ]
    },
    {
      "cell_type": "code",
      "metadata": {
        "id": "8Iem2nFdMxog"
      },
      "source": [
        "model = SVC(kernel='linear', probability=True, decision_function_shape='ovo')\n",
        "model.fit(x_train, y_train)\n",
        "predicted = model.predict(x_test)"
      ],
      "execution_count": 88,
      "outputs": []
    },
    {
      "cell_type": "markdown",
      "metadata": {
        "id": "ndZkHHa4N70P"
      },
      "source": [
        "* Show Accuracy"
      ]
    },
    {
      "cell_type": "code",
      "metadata": {
        "colab": {
          "base_uri": "https://localhost:8080/"
        },
        "id": "qIesn66aN97n",
        "outputId": "8a1f9b45-b42b-4d22-d348-b198e972b225"
      },
      "source": [
        "from sklearn import metrics\n",
        "accuracy = metrics.accuracy_score(y_test, predicted)\n",
        "print('accuracy:', accuracy)"
      ],
      "execution_count": 89,
      "outputs": [
        {
          "output_type": "stream",
          "name": "stdout",
          "text": [
            "accuracy: 0.86\n"
          ]
        }
      ]
    },
    {
      "cell_type": "markdown",
      "metadata": {
        "id": "T-jlTtqQc3US"
      },
      "source": [
        "1.2 Use KNN to classify 10 categories"
      ]
    },
    {
      "cell_type": "code",
      "metadata": {
        "id": "H5AwdIWkcu7C"
      },
      "source": [
        "# convert class vectors to binary class matrices\n",
        "y_train = np_utils.to_categorical(y_train, num_classes)\n",
        "y_test = np_utils.to_categorical(y_test, num_classes)\n",
        "# use KNN model\n",
        "model = KNeighborsClassifier(n_neighbors=7)\n",
        "model.fit(x_train, y_train)\n",
        "predicted = model.predict(x_test)"
      ],
      "execution_count": 90,
      "outputs": []
    },
    {
      "cell_type": "markdown",
      "metadata": {
        "id": "T0KVsPxOdC41"
      },
      "source": [
        "* Show Accuracy"
      ]
    },
    {
      "cell_type": "code",
      "metadata": {
        "colab": {
          "base_uri": "https://localhost:8080/"
        },
        "id": "8zU6BhzJc_7x",
        "outputId": "54f4062f-b1dd-45d9-fbc4-debffa543e78"
      },
      "source": [
        "from sklearn import metrics\n",
        "accuracy = metrics.accuracy_score(y_test, predicted)\n",
        "print('accuracy:', accuracy)"
      ],
      "execution_count": 91,
      "outputs": [
        {
          "output_type": "stream",
          "name": "stdout",
          "text": [
            "accuracy: 0.9733333333333334\n"
          ]
        }
      ]
    },
    {
      "cell_type": "markdown",
      "metadata": {
        "id": "DQYVSNPhu6tb"
      },
      "source": [
        "\n",
        "1.3 Use NN to classify 10 categories\n",
        "* Use: keras Sequential\n"
      ]
    },
    {
      "cell_type": "code",
      "metadata": {
        "colab": {
          "base_uri": "https://localhost:8080/"
        },
        "id": "0j0AL3bplwGw",
        "outputId": "bf39fcae-6af0-4031-afb1-691e39dd8ec4"
      },
      "source": [
        "\n",
        "# from keras.utils.vis_utils import plot_model\n",
        "input_shape = (8, 8, 1)\n",
        "model = Sequential()\n",
        "model.add(Dense(256))\n",
        "model.add(Dense(128))\n",
        "model.add(Dense(num_classes))\n",
        "model.add(Activation('softmax'))\n",
        "model.compile(loss='categorical_crossentropy', optimizer='adam', metrics=['accuracy'])\n",
        "model.fit(x_train, y_train)\n",
        "predicted = model.predict(x_test)\n",
        "# plot_model(model, to_file='/content/gdrive/MyDrive/convolutional_neural_network.png', show_shapes=True)\n"
      ],
      "execution_count": 92,
      "outputs": [
        {
          "output_type": "stream",
          "name": "stdout",
          "text": [
            "43/43 [==============================] - 0s 2ms/step - loss: 2.1304 - accuracy: 0.4707\n"
          ]
        }
      ]
    },
    {
      "cell_type": "markdown",
      "metadata": {
        "id": "ML49NWxLudyI"
      },
      "source": [
        "* Show Accuracy"
      ]
    },
    {
      "cell_type": "code",
      "metadata": {
        "colab": {
          "base_uri": "https://localhost:8080/"
        },
        "id": "qqqqgIYIuf5C",
        "outputId": "c2bb1772-0282-49f3-855b-ae281b55bd12"
      },
      "source": [
        "score = 0\n",
        "for idx, img in enumerate(x_test):\n",
        "  if np.where(predicted[idx]==np.max(predicted[idx])) == np.where(y_test[idx]==np.max(y_test[idx])): \n",
        "    score = score+1\n",
        "score = score/ len(y_test)\n",
        "print('accuracy:', score)"
      ],
      "execution_count": 93,
      "outputs": [
        {
          "output_type": "stream",
          "name": "stdout",
          "text": [
            "accuracy: 0.7533333333333333\n"
          ]
        }
      ]
    },
    {
      "cell_type": "markdown",
      "metadata": {
        "id": "jDMYUl_Mfn7y"
      },
      "source": [
        "Bonus: please write KNN by yourself"
      ]
    },
    {
      "cell_type": "markdown",
      "metadata": {
        "id": "as0_RsylgeXr"
      },
      "source": [
        "* Build KNN"
      ]
    },
    {
      "cell_type": "code",
      "metadata": {
        "id": "h8gNxnd1gOtC"
      },
      "source": [
        "mnist = load_digits()\n",
        "x_train, x_test, y_train, y_test = train_test_split(mnist.data,mnist.target,test_size=0.25,random_state=40)\n",
        "# Scale images to the [0, 1] range\n",
        "x_train = x_train.astype(\"float32\") / 255\n",
        "x_test = x_test.astype(\"float32\") / 255\n",
        "\n",
        "k=7\n",
        "train_img_len = x_train.shape[0] \n",
        "prediction = []\n",
        "\n",
        "for idx, img in enumerate(x_test):\n",
        "  distence = np.zeros(train_img_len)\n",
        "  label = y_train\n",
        "  # print(label)\n",
        "  for i in range(train_img_len):\n",
        "    dist = math.sqrt(sum((img - x_train[i])**2))\n",
        "    distence[i] = dist\n",
        "  p = distence.argsort()\n",
        "  KNN = []\n",
        "  for i in range(k):\n",
        "    KNN.append(label[p[i]])\n",
        "  predict = max(KNN, key=KNN.count)\n",
        "  prediction.append(predict)"
      ],
      "execution_count": 94,
      "outputs": []
    },
    {
      "cell_type": "markdown",
      "metadata": {
        "id": "BYikIpeDgmOx"
      },
      "source": [
        "* Show Accuracy"
      ]
    },
    {
      "cell_type": "code",
      "metadata": {
        "id": "e4OOhNMYgcd7",
        "colab": {
          "base_uri": "https://localhost:8080/"
        },
        "outputId": "6e44d61b-0b91-43af-904f-864f37bdd3bd"
      },
      "source": [
        "score = 0\n",
        "for idx, img in enumerate(x_test): \n",
        "  if prediction[idx]==y_test[idx]:\n",
        "    score = score+1\n",
        "score = score/ len(y_test)\n",
        "print(score)"
      ],
      "execution_count": 95,
      "outputs": [
        {
          "output_type": "stream",
          "name": "stdout",
          "text": [
            "0.9755555555555555\n"
          ]
        }
      ]
    }
  ]
}