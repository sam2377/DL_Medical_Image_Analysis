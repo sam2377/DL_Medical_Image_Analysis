{
  "nbformat": 4,
  "nbformat_minor": 0,
  "metadata": {
    "colab": {
      "name": "MNIST_KNN.ipynb",
      "provenance": [],
      "collapsed_sections": [],
      "authorship_tag": "ABX9TyP4y8rMrd3oKKdPsjbo14DI",
      "include_colab_link": true
    },
    "kernelspec": {
      "name": "python3",
      "display_name": "Python 3"
    },
    "language_info": {
      "name": "python"
    },
    "accelerator": "GPU"
  },
  "cells": [
    {
      "cell_type": "markdown",
      "metadata": {
        "id": "view-in-github",
        "colab_type": "text"
      },
      "source": [
        "<a href=\"https://colab.research.google.com/github/sam2377/DL_Medical_Image_Analysis/blob/master/Code/Lecture1/MNIST_KNN.ipynb\" target=\"_parent\"><img src=\"https://colab.research.google.com/assets/colab-badge.svg\" alt=\"Open In Colab\"/></a>"
      ]
    },
    {
      "cell_type": "markdown",
      "metadata": {
        "id": "GL2GMFRgW6oN"
      },
      "source": [
        "MNIST KNN"
      ]
    },
    {
      "cell_type": "markdown",
      "metadata": {
        "id": "iPJh66DpXBI9"
      },
      "source": [
        "1. import the necessary packages"
      ]
    },
    {
      "cell_type": "code",
      "metadata": {
        "id": "y7aO28H6us_u"
      },
      "source": [
        "# ref: https://customers.pyimagesearch.com/lesson-sample-k-nearest-neighbor-classification/ \n",
        "import numpy as np\n",
        "from tensorflow import keras\n",
        "from tensorflow.keras import layers\n",
        "from sklearn.model_selection import train_test_split\n",
        "from sklearn.neighbors import KNeighborsClassifier\n",
        "import tensorflow as tf\n",
        "import matplotlib.pyplot as plt\n"
      ],
      "execution_count": 4,
      "outputs": []
    },
    {
      "cell_type": "markdown",
      "metadata": {
        "id": "35ZKSNqbXLlN"
      },
      "source": [
        "2. desplay ramdom images in dataset (10 images)"
      ]
    },
    {
      "cell_type": "code",
      "metadata": {
        "id": "3ut7AB2UQFlC"
      },
      "source": [
        "def display(array):\n",
        "    #Displays 10 random images \n",
        "    n = 10\n",
        "    indices = np.random.randint(len(array), size=n)\n",
        "    images = array[indices, :]\n",
        "    plt.figure(figsize=(20, 4))\n",
        "    for i in range(10):\n",
        "        image = images[i, :, :]\n",
        "        ax = plt.subplot(2, n, i + 1)\n",
        "        plt.imshow(image.reshape(28, 28))\n",
        "        plt.gray()\n",
        "        ax.get_xaxis().set_visible(False)\n",
        "        ax.get_yaxis().set_visible(False)\n",
        "    plt.show()"
      ],
      "execution_count": 5,
      "outputs": []
    },
    {
      "cell_type": "markdown",
      "metadata": {
        "id": "U2DFgoJRXTP9"
      },
      "source": [
        "3. Use KNN to classify 10 categories"
      ]
    },
    {
      "cell_type": "code",
      "metadata": {
        "colab": {
          "base_uri": "https://localhost:8080/",
          "height": 129
        },
        "id": "Q86gDHEDExF0",
        "outputId": "bcee24fe-84c1-455f-e64e-573add8fd950"
      },
      "source": [
        "num_classes = 10\n",
        "\n",
        "# the data, split between train and test sets\n",
        "(x_train, y_train), (x_test, y_test) = keras.datasets.mnist.load_data()\n",
        "# Scale images to the [0, 1] range\n",
        "x_train = x_train.astype(\"float32\") / 255\n",
        "x_test = x_test.astype(\"float32\") / 255\n",
        "# show dataset\n",
        "display(x_train)\n",
        "# set pixels as features => flatten\n",
        "x_train = np.reshape(x_train, (x_train.shape[0], x_train.shape[1]*x_train.shape[2]))\n",
        "x_test = np.reshape(x_test, (x_test.shape[0], x_test.shape[1]*x_test.shape[2]))\n",
        "\n",
        "# convert class vectors to binary class matrices\n",
        "y_train = keras.utils.to_categorical(y_train, num_classes)\n",
        "y_test = keras.utils.to_categorical(y_test, num_classes)\n",
        "# use KNN model\n",
        "model = KNeighborsClassifier(n_neighbors=7)\n",
        "model.fit(x_train, y_train)\n",
        "predicted = model.predict(x_test)\n",
        "\n"
      ],
      "execution_count": 6,
      "outputs": [
        {
          "output_type": "display_data",
          "data": {
            "image/png": "[encoded data removed]",
            "text/plain": [
              "<Figure size 1440x288 with 10 Axes>"
            ]
          },
          "metadata": {
            "needs_background": "light"
          }
        }
      ]
    },
    {
      "cell_type": "markdown",
      "metadata": {
        "id": "Wp1kXjoHXpS_"
      },
      "source": [
        "4. Show Accuracy"
      ]
    },
    {
      "cell_type": "code",
      "metadata": {
        "colab": {
          "base_uri": "https://localhost:8080/"
        },
        "id": "RvQGInC7XndE",
        "outputId": "cad4cc3b-35e2-4d9f-bc62-9c16eb091b3e"
      },
      "source": [
        "from sklearn import metrics\n",
        "accuracy = metrics.accuracy_score(y_test, predicted)\n",
        "print('accuracy:', accuracy)"
      ],
      "execution_count": 7,
      "outputs": [
        {
          "output_type": "stream",
          "name": "stdout",
          "text": [
            "accuracy: 0.9655\n"
          ]
        }
      ]
    }
  ]
}