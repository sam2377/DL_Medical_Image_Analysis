{
  "nbformat": 4,
  "nbformat_minor": 0,
  "metadata": {
    "colab": {
      "name": "A1_tp.ipynb",
      "provenance": [],
      "collapsed_sections": [],
      "authorship_tag": "ABX9TyO1wD+QCt9loASaz/KWj18E",
      "include_colab_link": true
    },
    "kernelspec": {
      "name": "python3",
      "display_name": "Python 3"
    },
    "language_info": {
      "name": "python"
    }
  },
  "cells": [
    {
      "cell_type": "markdown",
      "metadata": {
        "id": "view-in-github",
        "colab_type": "text"
      },
      "source": [
        "<a href=\"https://colab.research.google.com/github/sam2377/DL_Medical_Image_Analysis/blob/master/Code/Lecture1/A1_tp.ipynb\" target=\"_parent\"><img src=\"https://colab.research.google.com/assets/colab-badge.svg\" alt=\"Open In Colab\"/></a>"
      ]
    },
    {
      "cell_type": "markdown",
      "metadata": {
        "id": "B-bHDK1BiuzG"
      },
      "source": [
        "# Assignment 1\n",
        "\n",
        "* In this assignment, we will use SVM and KNN to classify MNIST dataset."
      ]
    },
    {
      "cell_type": "markdown",
      "metadata": {
        "id": "E19Gi8Uhi2Pb"
      },
      "source": [
        "* import the necessary packages"
      ]
    },
    {
      "cell_type": "code",
      "metadata": {
        "id": "HxdWofSrisl6"
      },
      "source": [
        "import numpy as np\n",
        "from sklearn.model_selection import train_test_split\n",
        "from sklearn.svm import SVC\n",
        "import matplotlib.pyplot as plt\n",
        "from sklearn.datasets  import load_digits\n",
        "from keras.utils import np_utils\n",
        "from sklearn.neighbors import KNeighborsClassifier\n",
        "import math\n",
        "from tensorflow.keras.models import Sequential\n",
        "from tensorflow.keras.layers import Activation, Dense\n",
        "from sklearn import metrics"
      ],
      "execution_count": 71,
      "outputs": []
    },
    {
      "cell_type": "markdown",
      "metadata": {
        "id": "bnc-DpBji4s5"
      },
      "source": [
        "* desplay ramdom images in dataset (10 images)"
      ]
    },
    {
      "cell_type": "code",
      "metadata": {
        "id": "OxsL5o4Yi7ZZ"
      },
      "source": [
        "def display(array):\n",
        "    #Displays 10 random images \n",
        "    n = 10\n",
        "    \n",
        "    plt.show()"
      ],
      "execution_count": 61,
      "outputs": []
    },
    {
      "cell_type": "markdown",
      "metadata": {
        "id": "c2QE5cuijIfh"
      },
      "source": [
        "* load MINST dataset"
      ]
    },
    {
      "cell_type": "code",
      "metadata": {
        "colab": {
          "base_uri": "https://localhost:8080/",
          "height": 129
        },
        "id": "FAbxIr8ojIFo",
        "outputId": "38669e9b-7b0f-43fd-a583-be060d3f18b9"
      },
      "source": [
        "num_classes = 10\n",
        "# split data into train, test dataset(train size: test size = 0.75: 0,25)\n",
        "mnist = load_digits()\n",
        "x_train, x_test, y_train, y_test = \n",
        "# Scale images to the [0, 1] range\n",
        "\n",
        "# show train dataset\n",
        "display(x_train)"
      ],
      "execution_count": 62,
      "outputs": [
        {
          "output_type": "display_data",
          "data": {
            "image/png": "[encoded data removed]",
            "text/plain": [
              "<Figure size 1440x288 with 10 Axes>"
            ]
          },
          "metadata": {
            "needs_background": "light"
          }
        }
      ]
    },
    {
      "cell_type": "markdown",
      "metadata": {
        "id": "Qn_YsmcVjOna"
      },
      "source": [
        "1.1 Use SVM to classify 10 categories\n",
        "* Use: sklearn SVC (call function)"
      ]
    },
    {
      "cell_type": "code",
      "metadata": {
        "id": "hlSvexHQjQLT"
      },
      "source": [
        ""
      ],
      "execution_count": 63,
      "outputs": []
    },
    {
      "cell_type": "markdown",
      "metadata": {
        "id": "HU8npyu2jamS"
      },
      "source": [
        "* Show Accuracy"
      ]
    },
    {
      "cell_type": "code",
      "metadata": {
        "colab": {
          "base_uri": "https://localhost:8080/"
        },
        "id": "C4miEkb9jbSq",
        "outputId": "746f6dc7-a06e-4be2-b7af-29664df3210f"
      },
      "source": [
        "\n",
        "print('accuracy:', )"
      ],
      "execution_count": 64,
      "outputs": [
        {
          "output_type": "stream",
          "name": "stdout",
          "text": [
            "accuracy: 0.86\n"
          ]
        }
      ]
    },
    {
      "cell_type": "markdown",
      "metadata": {
        "id": "QGUogZ9bjdJk"
      },
      "source": [
        "1.2 Use KNN to classify 10 categories\n",
        "* Use: sklearn KNN (call function)"
      ]
    },
    {
      "cell_type": "code",
      "metadata": {
        "id": "b1EvdsqKjfbL"
      },
      "source": [
        "# convert class vectors to binary class matrices\n",
        "\n",
        "# use KNN model\n"
      ],
      "execution_count": 65,
      "outputs": []
    },
    {
      "cell_type": "markdown",
      "metadata": {
        "id": "G1zftZjxjhG7"
      },
      "source": [
        "* Show Accuracy"
      ]
    },
    {
      "cell_type": "code",
      "metadata": {
        "colab": {
          "base_uri": "https://localhost:8080/"
        },
        "id": "e_NZ-gL0jjxs",
        "outputId": "206f22d3-1825-4f36-c1be-99eed9e6c566"
      },
      "source": [
        "\n",
        "print('accuracy:', accuracy)"
      ],
      "execution_count": 66,
      "outputs": [
        {
          "output_type": "stream",
          "name": "stdout",
          "text": [
            "accuracy: 0.9733333333333334\n"
          ]
        }
      ]
    },
    {
      "cell_type": "markdown",
      "metadata": {
        "id": "mK6FQ0auvg9F"
      },
      "source": [
        "\n",
        "1.3 Use NN to classify 10 categories\n",
        "* Use: keras Sequential\n"
      ]
    },
    {
      "cell_type": "code",
      "metadata": {
        "colab": {
          "base_uri": "https://localhost:8080/"
        },
        "id": "AsTAb1CgvitJ",
        "outputId": "acaaa81d-ce58-4bb6-ddec-8590d5296fd0"
      },
      "source": [
        "# from keras.utils.vis_utils import plot_model\n",
        "input_shape = (8, 8, 1)\n",
        "model = Sequential()\n"
      ],
      "execution_count": 67,
      "outputs": [
        {
          "output_type": "stream",
          "name": "stdout",
          "text": [
            "43/43 [==============================] - 0s 2ms/step - loss: 2.1124 - accuracy: 0.5323\n"
          ]
        }
      ]
    },
    {
      "cell_type": "markdown",
      "metadata": {
        "id": "s_kPhOQ-vobR"
      },
      "source": [
        "* Show Accuracy"
      ]
    },
    {
      "cell_type": "code",
      "metadata": {
        "colab": {
          "base_uri": "https://localhost:8080/"
        },
        "id": "Uacspn1bvqQC",
        "outputId": "5ee8d4a2-8ebf-42db-82d4-18e088fca086"
      },
      "source": [
        "\n",
        "print('accuracy:', score)"
      ],
      "execution_count": 68,
      "outputs": [
        {
          "output_type": "stream",
          "name": "stdout",
          "text": [
            "accuracy: 0.76\n"
          ]
        }
      ]
    },
    {
      "cell_type": "markdown",
      "metadata": {
        "id": "mlqTByQCjndZ"
      },
      "source": [
        "Bonus: please write KNN by yourself"
      ]
    },
    {
      "cell_type": "markdown",
      "metadata": {
        "id": "6BhtlA_Ejqii"
      },
      "source": [
        "* Build KNN"
      ]
    },
    {
      "cell_type": "code",
      "metadata": {
        "id": "fjaoBxrZjsQa"
      },
      "source": [
        ""
      ],
      "execution_count": 69,
      "outputs": []
    },
    {
      "cell_type": "markdown",
      "metadata": {
        "id": "KbABzGzljuPt"
      },
      "source": [
        "* Show Accuracy"
      ]
    },
    {
      "cell_type": "code",
      "metadata": {
        "colab": {
          "base_uri": "https://localhost:8080/"
        },
        "id": "tOQiIFcNjv7R",
        "outputId": "83dd61ea-b08d-4d66-8447-8239b610b658"
      },
      "source": [
        "\n",
        "print('accuracy:', )"
      ],
      "execution_count": 72,
      "outputs": [
        {
          "output_type": "stream",
          "name": "stdout",
          "text": [
            "accuracy: 0.9755555555555555\n"
          ]
        }
      ]
    }
  ]
}