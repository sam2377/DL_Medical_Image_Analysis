{
  "nbformat": 4,
  "nbformat_minor": 0,
  "metadata": {
    "colab": {
      "name": "MNIST_SVM.ipynb",
      "provenance": [],
      "collapsed_sections": [],
      "authorship_tag": "ABX9TyOwPaAc7CnhuRJeqgnUuAMO",
      "include_colab_link": true
    },
    "kernelspec": {
      "name": "python3",
      "display_name": "Python 3"
    },
    "language_info": {
      "name": "python"
    }
  },
  "cells": [
    {
      "cell_type": "markdown",
      "metadata": {
        "id": "view-in-github",
        "colab_type": "text"
      },
      "source": [
        "<a href=\"https://colab.research.google.com/github/sam2377/DL_Medical_Image_Analysis/blob/master/Code/Lecture1/MNIST_SVM.ipynb\" target=\"_parent\"><img src=\"https://colab.research.google.com/assets/colab-badge.svg\" alt=\"Open In Colab\"/></a>"
      ]
    },
    {
      "cell_type": "markdown",
      "metadata": {
        "id": "zXjJDuEbow4D"
      },
      "source": [
        "MNIST SVM"
      ]
    },
    {
      "cell_type": "markdown",
      "metadata": {
        "id": "MZib6mzko02u"
      },
      "source": [
        "1. import the necessary packages"
      ]
    },
    {
      "cell_type": "code",
      "metadata": {
        "id": "AxWKGx5koqQi"
      },
      "source": [
        "#ref: https://blog.csdn.net/xiaoniu0991/article/details/79999105\n",
        "import numpy as np\n",
        "from sklearn.model_selection import train_test_split\n",
        "from sklearn.svm import SVC\n",
        "import matplotlib.pyplot as plt\n",
        "from sklearn.datasets  import load_digits"
      ],
      "execution_count": 2,
      "outputs": []
    },
    {
      "cell_type": "markdown",
      "metadata": {
        "id": "ChLwv4myowWv"
      },
      "source": [
        "2. desplay ramdom images in dataset (10 images)"
      ]
    },
    {
      "cell_type": "code",
      "metadata": {
        "id": "eqDRH2JsMtJX"
      },
      "source": [
        "def display(array):\n",
        "    #Displays 10 random images \n",
        "    n = 10\n",
        "    indices = np.random.randint(len(array), size=n)\n",
        "    images = array[indices, :]\n",
        "    plt.figure(figsize=(20, 4))\n",
        "    for i in range(10):\n",
        "        image = images[i, :]\n",
        "        ax = plt.subplot(2, n, i + 1)\n",
        "        plt.imshow(image.reshape(8, 8))\n",
        "        plt.gray()\n",
        "        ax.get_xaxis().set_visible(False)\n",
        "        ax.get_yaxis().set_visible(False)\n",
        "    plt.show()"
      ],
      "execution_count": 24,
      "outputs": []
    },
    {
      "cell_type": "markdown",
      "metadata": {
        "id": "1zAZZDDQMxGm"
      },
      "source": [
        "3. Use KNN to classify 10 categories"
      ]
    },
    {
      "cell_type": "code",
      "metadata": {
        "colab": {
          "base_uri": "https://localhost:8080/",
          "height": 129
        },
        "id": "8Iem2nFdMxog",
        "outputId": "96bdf2d8-567f-4f13-da33-6dea65e40c13"
      },
      "source": [
        "num_classes = 10\n",
        "# the data, split between train and test sets\n",
        "mnist = load_digits()\n",
        "x_train, x_test, y_train, y_test = train_test_split(mnist.data,mnist.target,test_size=0.25,random_state=40)\n",
        "# Scale images to the [0, 1] range\n",
        "x_train = x_train.astype(\"float32\") / 255\n",
        "x_test = x_test.astype(\"float32\") / 255\n",
        "# show dataset\n",
        "display(x_train)\n",
        "# use SVM model\n",
        "model = SVC(kernel='linear', probability=True, decision_function_shape='ovo')\n",
        "model.fit(x_train, y_train)\n",
        "predicted = model.predict(x_test)\n",
        "\n"
      ],
      "execution_count": 25,
      "outputs": [
        {
          "output_type": "display_data",
          "data": {
            "image/png": "[encoded data removed]",
            "text/plain": [
              "<Figure size 1440x288 with 10 Axes>"
            ]
          },
          "metadata": {
            "needs_background": "light"
          }
        }
      ]
    },
    {
      "cell_type": "markdown",
      "metadata": {
        "id": "ndZkHHa4N70P"
      },
      "source": [
        "4. Show Accuracy"
      ]
    },
    {
      "cell_type": "code",
      "metadata": {
        "colab": {
          "base_uri": "https://localhost:8080/"
        },
        "id": "qIesn66aN97n",
        "outputId": "b8132692-69d8-4cb3-c3ff-e1b678f304c2"
      },
      "source": [
        "from sklearn import metrics\n",
        "accuracy = metrics.accuracy_score(y_test, predicted)\n",
        "print('accuracy:', accuracy)"
      ],
      "execution_count": 23,
      "outputs": [
        {
          "output_type": "stream",
          "name": "stdout",
          "text": [
            "accuracy: 0.86\n"
          ]
        }
      ]
    }
  ]
}